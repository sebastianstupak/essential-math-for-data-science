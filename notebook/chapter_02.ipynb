{
 "cells": [
  {
   "cell_type": "markdown",
   "metadata": {},
   "source": [
    "# Chapter 2 - Probability"
   ]
  },
  {
   "cell_type": "markdown",
   "metadata": {},
   "source": [
    "## Understanding probability and odds"
   ]
  },
  {
   "cell_type": "markdown",
   "metadata": {},
   "source": [
    "$P(X) = 0.7$\n",
    "- $P( )$ is probability\n",
    "- $X$ is the event of interest\n",
    "- $0.7$ is value from $0.0$ to $1.0$, in this case it means $70%$"
   ]
  },
  {
   "cell_type": "markdown",
   "metadata": {},
   "source": [
    "Negative or probability of event $X$ not happening is done by taking the probability of event happening and subtracting it from $1.0$.\n",
    "\n",
    "$\n",
    "P(not X) = 1.0 - 0.7\n",
    "$\n",
    "\n",
    "$\n",
    "P(not X) = 0.3\n",
    "$"
   ]
  },
  {
   "cell_type": "markdown",
   "metadata": {},
   "source": [
    "Probabilities - only one outcome can occur, nut multiple and must sum to 1.0 or 100%\n",
    "\n",
    "Likelihoods are not subject to this rule."
   ]
  },
  {
   "cell_type": "markdown",
   "metadata": {},
   "source": [
    "Alternatively, probability can be expressed as an odds $O(X)$ such as 7:3, 7/3 or 2.333.\n",
    "To turn an odds $O(X)$ into a proportional probability $P(X)$, use this formula:\n",
    "\n",
    "$\n",
    "P(X) = \\frac{O(X)}{1 + O(X)}\n",
    "$\n",
    "\n",
    "Example, odds $7/3$ converted into a proportional probability:\n",
    "\n",
    "$\n",
    "P(X) = \\frac{O(X)}{1 + O(X)}\n",
    "$\n",
    "\n",
    "$\n",
    "P(X) = \\frac{\\frac{7}{3}}{1 + \\frac{7}{3}}\n",
    "$\n",
    "\n",
    "$\n",
    "P(X) = .7\n",
    "$\n",
    "\n",
    "Turning odds into a probability by dividing the probability of the event occuring by the probability it will not occur:\n",
    "\n",
    "$\n",
    "O(X) = \\frac{P(X)}{1 - P(X)}\n",
    "$\n",
    "\n",
    "$\n",
    "O(X) = \\frac{.70}{1 - .70}\n",
    "$\n",
    "\n",
    "$\n",
    "O(X) = \\frac{7}{3}\n",
    "$"
   ]
  },
  {
   "cell_type": "markdown",
   "metadata": {},
   "source": [
    "### Odds Are Useful!\n",
    "\n",
    "If I have an odds of 2.0, that means I feel an event is two times more likely to happen than not to happen. That can be more intuitive to describe a belief than a percentage of 66.66%. For this reason, odds are helpful quantifying subjective beliefs especially in gambling / betting context. It plays a role in Bayesian statistics (including the Bayer Factor) as well as logistic regressions with log-odds."
   ]
  },
  {
   "cell_type": "markdown",
   "metadata": {},
   "source": []
  }
 ],
 "metadata": {
  "language_info": {
   "name": "python"
  }
 },
 "nbformat": 4,
 "nbformat_minor": 2
}
